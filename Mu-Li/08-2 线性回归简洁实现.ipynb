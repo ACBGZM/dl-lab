{
 "cells": [
  {
   "cell_type": "code",
   "execution_count": 1,
   "id": "f5c7f446",
   "metadata": {},
   "outputs": [],
   "source": [
    "import numpy as np\n",
    "import torch\n",
    "from torch.utils import data  # 处理数据的模块\n",
    "from d2l import torch as d2l"
   ]
  },
  {
   "cell_type": "markdown",
   "id": "c43c891b",
   "metadata": {},
   "source": [
    "### 数据部分"
   ]
  },
  {
   "cell_type": "code",
   "execution_count": 2,
   "id": "f9f299d5",
   "metadata": {},
   "outputs": [],
   "source": [
    "true_w = torch.tensor([2, -3.4])\n",
    "true_b = 4.2\n",
    "features, labels = d2l.synthetic_data(true_w, true_b, 1000)"
   ]
  },
  {
   "cell_type": "markdown",
   "id": "3861fcb5",
   "metadata": {},
   "source": [
    "调用框架中现有API来读取数据：把已有的features和labels做成一个list，传到TensorDataset里面。"
   ]
  },
  {
   "cell_type": "code",
   "execution_count": 7,
   "id": "f89bd398",
   "metadata": {},
   "outputs": [],
   "source": [
    "def load_array(data_arrays, batch_size, is_train=True):\n",
    "    dataset = data.TensorDataset(*data_arrays)\n",
    "    return data.DataLoader(dataset, batch_size, shuffle=is_train)"
   ]
  },
  {
   "cell_type": "code",
   "execution_count": 8,
   "id": "4ee12058",
   "metadata": {},
   "outputs": [
    {
     "data": {
      "text/plain": [
       "[tensor([[-0.0435, -0.4923],\n",
       "         [-0.2821, -0.5327],\n",
       "         [ 0.6142,  0.8267],\n",
       "         [ 2.2878, -0.4355],\n",
       "         [-1.7977,  0.1201],\n",
       "         [ 0.2936, -0.6262],\n",
       "         [ 0.6724,  0.4770],\n",
       "         [-1.2796,  0.2583],\n",
       "         [-1.4232, -1.5031],\n",
       "         [-1.7755,  0.2085]]),\n",
       " tensor([[ 5.7851],\n",
       "         [ 5.4427],\n",
       "         [ 2.6178],\n",
       "         [10.2669],\n",
       "         [ 0.1996],\n",
       "         [ 6.9301],\n",
       "         [ 3.9181],\n",
       "         [ 0.7609],\n",
       "         [ 6.4734],\n",
       "         [-0.0565]])]"
      ]
     },
     "execution_count": 8,
     "metadata": {},
     "output_type": "execute_result"
    }
   ],
   "source": [
    "batch_size = 10\n",
    "data_iter = load_array((features, labels), batch_size) \n",
    "\n",
    "next(iter(data_iter))"
   ]
  },
  {
   "cell_type": "markdown",
   "id": "45e5e5dd",
   "metadata": {},
   "source": [
    "现在data_iter存储了全部的训练集"
   ]
  },
  {
   "cell_type": "markdown",
   "id": "111bda8f",
   "metadata": {},
   "source": [
    "### 模型部分"
   ]
  },
  {
   "cell_type": "code",
   "execution_count": 9,
   "id": "472737c6",
   "metadata": {},
   "outputs": [],
   "source": [
    "from torch import nn"
   ]
  },
  {
   "cell_type": "code",
   "execution_count": 10,
   "id": "fe585017",
   "metadata": {},
   "outputs": [],
   "source": [
    "net = nn.Sequential(nn.Linear(2, 1))"
   ]
  },
  {
   "cell_type": "code",
   "execution_count": 11,
   "id": "112af4c6",
   "metadata": {},
   "outputs": [
    {
     "data": {
      "text/plain": [
       "tensor([0.])"
      ]
     },
     "execution_count": 11,
     "metadata": {},
     "output_type": "execute_result"
    }
   ],
   "source": [
    "net[0].weight.data.normal_(0, 0.01)\n",
    "net[0].bias.data.fill_(0)"
   ]
  },
  {
   "cell_type": "code",
   "execution_count": 12,
   "id": "5db14db6",
   "metadata": {},
   "outputs": [],
   "source": [
    "loss = nn.MSELoss()"
   ]
  },
  {
   "cell_type": "code",
   "execution_count": 13,
   "id": "30074026",
   "metadata": {},
   "outputs": [],
   "source": [
    "trainer = torch.optim.SGD(net.parameters(), lr=0.03)"
   ]
  },
  {
   "cell_type": "markdown",
   "id": "41d13d3c",
   "metadata": {},
   "source": [
    "### 训练部分"
   ]
  },
  {
   "cell_type": "code",
   "execution_count": 15,
   "id": "e0e8a1c5",
   "metadata": {},
   "outputs": [
    {
     "name": "stdout",
     "output_type": "stream",
     "text": [
      "epoch 1, loss 0.000192\n",
      "epoch 2, loss 0.000104\n",
      "epoch 3, loss 0.000104\n"
     ]
    }
   ],
   "source": [
    "num_epochs = 3\n",
    "for epoch in range(num_epochs):\n",
    "    for X, y in data_iter:\n",
    "        l = loss(net(X) ,y)\n",
    "        trainer.zero_grad()\n",
    "        l.backward()\n",
    "        trainer.step()\n",
    "    l = loss(net(features), labels)\n",
    "    print(f'epoch {epoch+1}, loss {l:f}')"
   ]
  },
  {
   "cell_type": "code",
   "execution_count": null,
   "id": "891df9a2",
   "metadata": {},
   "outputs": [],
   "source": []
  }
 ],
 "metadata": {
  "kernelspec": {
   "display_name": "zm_torch",
   "language": "python",
   "name": "zm_torch"
  },
  "language_info": {
   "codemirror_mode": {
    "name": "ipython",
    "version": 3
   },
   "file_extension": ".py",
   "mimetype": "text/x-python",
   "name": "python",
   "nbconvert_exporter": "python",
   "pygments_lexer": "ipython3",
   "version": "3.7.10"
  }
 },
 "nbformat": 4,
 "nbformat_minor": 5
}
