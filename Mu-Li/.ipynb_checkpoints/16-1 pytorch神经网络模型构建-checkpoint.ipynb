{
 "cells": [
  {
   "cell_type": "code",
   "execution_count": 1,
   "id": "0960dde2",
   "metadata": {},
   "outputs": [],
   "source": [
    "import torch\n",
    "from torch import nn\n",
    "from torch.nn import functional as F"
   ]
  },
  {
   "cell_type": "markdown",
   "id": "03e7600f",
   "metadata": {},
   "source": [
    "#### 多层感知机"
   ]
  },
  {
   "cell_type": "markdown",
   "id": "0d98bdc9",
   "metadata": {},
   "source": [
    "1.用nn.Sequential简便定义"
   ]
  },
  {
   "cell_type": "code",
   "execution_count": 2,
   "id": "5da0dbd5",
   "metadata": {},
   "outputs": [
    {
     "data": {
      "text/plain": [
       "tensor([[ 0.0079,  0.2971, -0.1664, -0.2609, -0.1028,  0.0553, -0.0844,  0.3181,\n",
       "          0.1440,  0.0183],\n",
       "        [-0.0120,  0.2243, -0.2270, -0.2375,  0.0023,  0.1284, -0.1863,  0.3751,\n",
       "          0.2210,  0.0318]], grad_fn=<AddmmBackward>)"
      ]
     },
     "execution_count": 2,
     "metadata": {},
     "output_type": "execute_result"
    }
   ],
   "source": [
    "net = nn.Sequential(nn.Linear(20, 256), nn.ReLU(), nn.Linear(256, 10))\n",
    "\n",
    "X = torch.rand(2, 20)\n",
    "net(X)"
   ]
  },
  {
   "cell_type": "markdown",
   "id": "cd3f5d3a",
   "metadata": {},
   "source": [
    "nn.Sequential 定义了一种特殊的 Module 。\n",
    "\n",
    "Module：任何一个层或一个神经网络应该都是Module的一个子类。"
   ]
  },
  {
   "cell_type": "markdown",
   "id": "657555ce",
   "metadata": {},
   "source": [
    "2.自定义一个MLP Module，实现跟之前一样的操作："
   ]
  },
  {
   "cell_type": "code",
   "execution_count": 3,
   "id": "09696082",
   "metadata": {},
   "outputs": [],
   "source": [
    "class MLP(nn.Module):\n",
    "    def __init__(self):\n",
    "        super().__init__()\n",
    "        # 定义层\n",
    "        self.hidden = nn.Linear(20, 256)\n",
    "        self.out = nn.Linear(256, 10)\n",
    "        \n",
    "    # 定义前向函数的运算\n",
    "    def forward(self, X):\n",
    "        return self.out(F.relu(self.hidden(X)))"
   ]
  },
  {
   "cell_type": "code",
   "execution_count": 4,
   "id": "2f4a0ee0",
   "metadata": {},
   "outputs": [
    {
     "data": {
      "text/plain": [
       "tensor([[ 0.1495, -0.2505,  0.2586, -0.0539, -0.0353, -0.2609, -0.0131, -0.0313,\n",
       "         -0.0268, -0.0772],\n",
       "        [ 0.0923, -0.1735,  0.3054, -0.1444, -0.2471, -0.2457, -0.0312, -0.0380,\n",
       "         -0.0468, -0.0069]], grad_fn=<AddmmBackward>)"
      ]
     },
     "execution_count": 4,
     "metadata": {},
     "output_type": "execute_result"
    }
   ],
   "source": [
    "net = MLP()\n",
    "net(X)"
   ]
  },
  {
   "cell_type": "markdown",
   "id": "a1595ac5",
   "metadata": {},
   "source": [
    "3.手动定义一个顺序块Sequential"
   ]
  },
  {
   "cell_type": "code",
   "execution_count": 5,
   "id": "31d4021e",
   "metadata": {},
   "outputs": [],
   "source": [
    "class MySequential(nn.Module):\n",
    "    def __init__(self, *args):\n",
    "        super().__init__()\n",
    "        for block in args:\n",
    "            self._modules[block] = block\n",
    "    \n",
    "    def forward(self, X):\n",
    "        for block in self._modules.values():\n",
    "            X = block(X)\n",
    "        return X"
   ]
  },
  {
   "cell_type": "code",
   "execution_count": 6,
   "id": "c4b8ddd0",
   "metadata": {},
   "outputs": [
    {
     "data": {
      "text/plain": [
       "tensor([[-0.0699, -0.0697, -0.0617, -0.0775,  0.1169,  0.2569,  0.1473,  0.0108,\n",
       "          0.0872,  0.0270],\n",
       "        [-0.1398, -0.2304, -0.1077, -0.0490, -0.1197,  0.2514,  0.2516,  0.0729,\n",
       "          0.0253,  0.0126]], grad_fn=<AddmmBackward>)"
      ]
     },
     "execution_count": 6,
     "metadata": {},
     "output_type": "execute_result"
    }
   ],
   "source": [
    "net = MySequential(nn.Linear(20, 256), nn.ReLU(), nn.Linear(256, 10))\n",
    "net(X)"
   ]
  },
  {
   "cell_type": "markdown",
   "id": "66cda878",
   "metadata": {},
   "source": [
    "当方法1的nn.Sequential不能满足运算要求时，可以用方法2，继承nn.Module，在init和forward方法中做任意自定义的计算，也可以返回任意值。"
   ]
  },
  {
   "cell_type": "code",
   "execution_count": 7,
   "id": "067a5f20",
   "metadata": {},
   "outputs": [],
   "source": [
    "class FixedHiddenMLP(nn.Module):\n",
    "    def __init__(self):\n",
    "        super().__init__()\n",
    "        self.rand_weight = torch.rand((20, 20), requires_grad=False) # 不参与训练\n",
    "        self.linear = nn.Linear(20, 20)\n",
    "        \n",
    "    def forward(self, X):\n",
    "        X = self.linear(X)\n",
    "        X = F.relu(torch.mm(X, self.rand_weight) + 1)\n",
    "        X = self.linear(X)\n",
    "        while X.abs().sum() > 1:\n",
    "            X /= 2\n",
    "        return X.sum()"
   ]
  },
  {
   "cell_type": "code",
   "execution_count": 8,
   "id": "eef3b8f8",
   "metadata": {},
   "outputs": [
    {
     "data": {
      "text/plain": [
       "tensor(-0.0863, grad_fn=<SumBackward0>)"
      ]
     },
     "execution_count": 8,
     "metadata": {},
     "output_type": "execute_result"
    }
   ],
   "source": [
    "net = FixedHiddenMLP()\n",
    "net(X)"
   ]
  },
  {
   "cell_type": "markdown",
   "id": "26658ff5",
   "metadata": {},
   "source": [
    "只要是nn的Module的子类，就可以嵌套使用。\n",
    "\n",
    "如：定义好的网络NestMLP，层nn.Linear，层nn.Sequential，都可以灵活嵌套。"
   ]
  },
  {
   "cell_type": "code",
   "execution_count": 9,
   "id": "a2e9791f",
   "metadata": {},
   "outputs": [],
   "source": [
    "class NestMLP(nn.Module):\n",
    "    def __init__(self):\n",
    "        super().__init__()\n",
    "        self.net = nn.Sequential(nn.Linear(20, 64), nn.ReLU(), \n",
    "                                 nn.Linear(64, 32), nn.ReLU())\n",
    "        self.linear = nn.Linear(32, 16)\n",
    "    \n",
    "    def forward(self, X):\n",
    "        return self.linear(self.net(X))"
   ]
  },
  {
   "cell_type": "code",
   "execution_count": 10,
   "id": "1bac5e5d",
   "metadata": {},
   "outputs": [
    {
     "data": {
      "text/plain": [
       "tensor(0.1329, grad_fn=<SumBackward0>)"
      ]
     },
     "execution_count": 10,
     "metadata": {},
     "output_type": "execute_result"
    }
   ],
   "source": [
    "chimera = nn.Sequential(NestMLP(), nn.Linear(16, 20), FixedHiddenMLP())\n",
    "chimera(X)"
   ]
  },
  {
   "cell_type": "code",
   "execution_count": null,
   "id": "bce08faf",
   "metadata": {},
   "outputs": [],
   "source": []
  }
 ],
 "metadata": {
  "kernelspec": {
   "display_name": "zm_torch",
   "language": "python",
   "name": "zm_torch"
  },
  "language_info": {
   "codemirror_mode": {
    "name": "ipython",
    "version": 3
   },
   "file_extension": ".py",
   "mimetype": "text/x-python",
   "name": "python",
   "nbconvert_exporter": "python",
   "pygments_lexer": "ipython3",
   "version": "3.7.10"
  }
 },
 "nbformat": 4,
 "nbformat_minor": 5
}
