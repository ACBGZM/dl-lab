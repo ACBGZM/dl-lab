{
 "cells": [
  {
   "cell_type": "code",
   "execution_count": 1,
   "id": "3db49b3c",
   "metadata": {},
   "outputs": [],
   "source": [
    "import torch\n",
    "from d2l import torch as d2l"
   ]
  },
  {
   "cell_type": "code",
   "execution_count": 4,
   "id": "693278a0",
   "metadata": {},
   "outputs": [],
   "source": [
    "# 但输入通道的互相关运算\n",
    "def comp_conv2d(conv2d, X):\n",
    "    X = X.reshape((1, 1) + X.shape)  # 二维变四维，添加通道数、批量大小数\n",
    "    Y = conv2d(X)\n",
    "    return Y.reshape(Y.shape[2:])  # 四维变二维"
   ]
  },
  {
   "cell_type": "code",
   "execution_count": 5,
   "id": "c73f0da3",
   "metadata": {},
   "outputs": [],
   "source": [
    "# 实现多输入通道的2D互相关运算\n",
    "def corr2d_multi_in(X, K):\n",
    "    return sum(comp_corr2d(x, k) for x, k in zip(X, K))"
   ]
  },
  {
   "cell_type": "code",
   "execution_count": null,
   "id": "4bfc9e2b",
   "metadata": {},
   "outputs": [],
   "source": [
    "X = torch.tensor([\n",
    "    [\n",
    "        [0.0, 1.0, 2.0], [3.0, 4.0, 5.0], [6.0, 7.0, 8.0]\n",
    "    ],\n",
    "    [\n",
    "        [1.0, 2.0, 3.0], [4.0, 5.0, 6.0], [7.0, 8.0, 9.0]\n",
    "    ]\n",
    "])"
   ]
  }
 ],
 "metadata": {
  "kernelspec": {
   "display_name": "zm_torch",
   "language": "python",
   "name": "zm_torch"
  },
  "language_info": {
   "codemirror_mode": {
    "name": "ipython",
    "version": 3
   },
   "file_extension": ".py",
   "mimetype": "text/x-python",
   "name": "python",
   "nbconvert_exporter": "python",
   "pygments_lexer": "ipython3",
   "version": "3.7.10"
  }
 },
 "nbformat": 4,
 "nbformat_minor": 5
}
