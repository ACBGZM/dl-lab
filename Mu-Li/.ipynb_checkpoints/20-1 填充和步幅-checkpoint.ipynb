{
 "cells": [
  {
   "cell_type": "code",
   "execution_count": 1,
   "id": "2359057b",
   "metadata": {},
   "outputs": [],
   "source": [
    "import torch\n",
    "from torch import nn"
   ]
  },
  {
   "cell_type": "code",
   "execution_count": 5,
   "id": "bf3e33cd",
   "metadata": {},
   "outputs": [],
   "source": [
    "def comp_conv2d(conv2d, X):\n",
    "    X = X.reshape((1, 1) + X.shape)  # 二维变四维，添加通道数、批量大小数\n",
    "    Y = conv2d(X)\n",
    "    return Y.reshape(Y.shape[2:])  # 四维变二维"
   ]
  },
  {
   "cell_type": "code",
   "execution_count": 6,
   "id": "738064c4",
   "metadata": {},
   "outputs": [],
   "source": [
    "conv2d = nn.Conv2d(1, 1, kernel_size=3, padding=1) # 上下左右各填充 1\n",
    "X = torch.rand(size=(8, 8))"
   ]
  },
  {
   "cell_type": "code",
   "execution_count": 7,
   "id": "9bdb36cf",
   "metadata": {},
   "outputs": [
    {
     "data": {
      "text/plain": [
       "torch.Size([8, 8])"
      ]
     },
     "execution_count": 7,
     "metadata": {},
     "output_type": "execute_result"
    }
   ],
   "source": [
    "comp_conv2d(conv2d, X).shape"
   ]
  },
  {
   "cell_type": "markdown",
   "id": "2edb22a2",
   "metadata": {},
   "source": [
    "可见，左右各填充一行，核大小为3时，输入输出size相同"
   ]
  },
  {
   "cell_type": "code",
   "execution_count": null,
   "id": "702769c4",
   "metadata": {},
   "outputs": [],
   "source": []
  }
 ],
 "metadata": {
  "kernelspec": {
   "display_name": "zm_torch",
   "language": "python",
   "name": "zm_torch"
  },
  "language_info": {
   "codemirror_mode": {
    "name": "ipython",
    "version": 3
   },
   "file_extension": ".py",
   "mimetype": "text/x-python",
   "name": "python",
   "nbconvert_exporter": "python",
   "pygments_lexer": "ipython3",
   "version": "3.7.10"
  }
 },
 "nbformat": 4,
 "nbformat_minor": 5
}
