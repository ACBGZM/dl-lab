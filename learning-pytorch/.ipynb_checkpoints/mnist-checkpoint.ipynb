{
 "cells": [
  {
   "cell_type": "code",
   "execution_count": 1,
   "id": "musical-headline",
   "metadata": {},
   "outputs": [],
   "source": [
    "import numpy as np\n",
    "import torch\n",
    "\n",
    "from torchvision.datasets import mnist\n",
    "# 导入预处理模块\n",
    "import torchvision.transforms as transforms\n",
    "from torch.utils.data import DataLoader\n",
    "# 导入nn及优化器\n",
    "import torch.nn.functional as F\n",
    "import torch.optim as optim\n",
    "from torch import nn\n",
    "\n",
    "import time"
   ]
  },
  {
   "cell_type": "code",
   "execution_count": 2,
   "id": "hourly-portland",
   "metadata": {},
   "outputs": [],
   "source": [
    "train_batch_size = 64\n",
    "test_batch_size = 128\n",
    "num_epoches = 20\n",
    "lr = 0.01\n",
    "momentum = 0.5"
   ]
  },
  {
   "cell_type": "code",
   "execution_count": 3,
   "id": "completed-announcement",
   "metadata": {},
   "outputs": [],
   "source": [
    "# 定义预处理函数\n",
    "transform = transforms.Compose([transforms.ToTensor(), transforms.Normalize([0.5], [0.5])])\n",
    "# 下载数据，并预处理\n",
    "train_dataset = mnist.MNIST('./data', train=True, transform=transform, download=True)\n",
    "test_dataset = mnist.MNIST('./data', train=False, transform=transform)\n",
    "\n",
    "train_loader = DataLoader(train_dataset, batch_size=train_batch_size, shuffle=True)\n",
    "test_loader = DataLoader(test_dataset, batch_size=test_batch_size, shuffle=False)"
   ]
  },
  {
   "cell_type": "code",
   "execution_count": 4,
   "id": "intended-housing",
   "metadata": {},
   "outputs": [
    {
     "data": {
      "image/png": "[encoded data removed]",
      "text/plain": [
       "<Figure size 432x288 with 6 Axes>"
      ]
     },
     "metadata": {},
     "output_type": "display_data"
    }
   ],
   "source": [
    "import matplotlib.pyplot as plt\n",
    "%matplotlib inline\n",
    "\n",
    "examples  = enumerate(test_loader)\n",
    "batch_idx, (example_data, example_targets) = next(examples)\n",
    "\n",
    "fig = plt.figure()\n",
    "for i in range(6):\n",
    "    plt.subplot(2, 3, i+1)\n",
    "    plt.tight_layout()\n",
    "    plt.imshow(example_data[i][0], cmap='gray', interpolation='none')\n",
    "    plt.title(\"Ground Truth:{}\".format(example_targets[i]))\n",
    "    plt.xticks([])\n",
    "    plt.yticks([])"
   ]
  },
  {
   "cell_type": "code",
   "execution_count": 5,
   "id": "mechanical-recruitment",
   "metadata": {},
   "outputs": [],
   "source": [
    "# 构建网络\n",
    "class Net(nn.Module):\n",
    "    # 使用sequential创建网络\n",
    "    def __init__(self, in_dim, n_hidden_1, n_hidden_2, out_dim):\n",
    "        super(Net, self).__init__()\n",
    "        self.layer1 = nn.Sequential(nn.Linear(in_dim, n_hidden_1), nn.BatchNorm1d(n_hidden_1))\n",
    "        self.layer2 = nn.Sequential(nn.Linear(n_hidden_1, n_hidden_2), nn.BatchNorm1d(n_hidden_2))\n",
    "        self.layer3 = nn.Sequential(nn.Linear(n_hidden_2, out_dim))\n",
    "        \n",
    "    def forward(self, x):\n",
    "        x = F.relu(self.layer1(x))\n",
    "        x = F.relu(self.layer2(x))\n",
    "        x = self.layer3(x)\n",
    "        return x"
   ]
  },
  {
   "cell_type": "code",
   "execution_count": 6,
   "id": "purple-pickup",
   "metadata": {},
   "outputs": [
    {
     "name": "stdout",
     "output_type": "stream",
     "text": [
      "cuda:0\n"
     ]
    }
   ],
   "source": [
    "# 实例化网络\n",
    "device = torch.device(\"cuda:0\" if torch.cuda.is_available() else \"cpu\")\n",
    "print(device)\n",
    "\n",
    "model = Net(28*28, 300, 100, 10)\n",
    "model.to(device)\n",
    "\n",
    "# 定义损失函数和优化器\n",
    "criterion = nn.CrossEntropyLoss()\n",
    "optimizer = optim.SGD(model.parameters(), lr=lr, momentum=momentum)"
   ]
  },
  {
   "cell_type": "code",
   "execution_count": 7,
   "id": "streaming-tuner",
   "metadata": {},
   "outputs": [
    {
     "name": "stdout",
     "output_type": "stream",
     "text": [
      "epoch:0, train_loss:0.4905, train_acc:0.8905, test_loss:0.2009, test_acc:0.9499, time:0m 11s\n",
      "epoch:1, train_loss:0.1881, train_acc:0.9513, test_loss:0.1318, test_acc:0.9649, time:0m 21s\n",
      "epoch:2, train_loss:0.1312, train_acc:0.9659, test_loss:0.1041, test_acc:0.9721, time:0m 31s\n",
      "epoch:3, train_loss:0.1003, train_acc:0.9738, test_loss:0.0891, test_acc:0.9755, time:0m 41s\n",
      "epoch:4, train_loss:0.0820, train_acc:0.9786, test_loss:0.0806, test_acc:0.9782, time:0m 51s\n",
      "epoch:5, train_loss:0.0651, train_acc:0.9832, test_loss:0.0755, test_acc:0.9781, time:1m 0s\n",
      "epoch:6, train_loss:0.0579, train_acc:0.9862, test_loss:0.0716, test_acc:0.9782, time:1m 10s\n",
      "epoch:7, train_loss:0.0520, train_acc:0.9877, test_loss:0.0709, test_acc:0.9779, time:1m 19s\n",
      "epoch:8, train_loss:0.0478, train_acc:0.9884, test_loss:0.0680, test_acc:0.9797, time:1m 29s\n",
      "epoch:9, train_loss:0.0437, train_acc:0.9902, test_loss:0.0676, test_acc:0.9794, time:1m 39s\n",
      "epoch:10, train_loss:0.0402, train_acc:0.9917, test_loss:0.0654, test_acc:0.9803, time:1m 48s\n",
      "epoch:11, train_loss:0.0375, train_acc:0.9916, test_loss:0.0653, test_acc:0.9800, time:1m 58s\n",
      "epoch:12, train_loss:0.0355, train_acc:0.9928, test_loss:0.0647, test_acc:0.9807, time:2m 7s\n",
      "epoch:13, train_loss:0.0338, train_acc:0.9932, test_loss:0.0640, test_acc:0.9809, time:2m 16s\n",
      "epoch:14, train_loss:0.0335, train_acc:0.9931, test_loss:0.0636, test_acc:0.9815, time:2m 25s\n",
      "epoch:15, train_loss:0.0307, train_acc:0.9941, test_loss:0.0635, test_acc:0.9811, time:2m 34s\n",
      "epoch:16, train_loss:0.0299, train_acc:0.9943, test_loss:0.0633, test_acc:0.9800, time:2m 43s\n",
      "epoch:17, train_loss:0.0291, train_acc:0.9950, test_loss:0.0628, test_acc:0.9809, time:2m 52s\n",
      "epoch:18, train_loss:0.0290, train_acc:0.9947, test_loss:0.0631, test_acc:0.9799, time:3m 2s\n",
      "epoch:19, train_loss:0.0287, train_acc:0.9945, test_loss:0.0624, test_acc:0.9807, time:3m 11s\n"
     ]
    }
   ],
   "source": [
    "# 训练模型\n",
    "loss_list = []\n",
    "acc_list = []\n",
    "eval_loss_list = []\n",
    "eval_acc_list = []\n",
    "\n",
    "since = time.time()\n",
    "\n",
    "for epoch in range(num_epoches):\n",
    "    train_loss = 0\n",
    "    train_acc = 0\n",
    "    model.train()\n",
    "    \n",
    "    if epoch%5 == 0:\n",
    "        optimizer.param_groups[0]['lr']*=0.5\n",
    "    \n",
    "    for img, label in train_loader:\n",
    "        img = img.to(device)\n",
    "        label = label.to(device)\n",
    "        img = img.view(img.size(0), -1)\n",
    "        # 前向传播\n",
    "        out = model(img)\n",
    "        loss = criterion(out, label)\n",
    "        # 反向传播\n",
    "        optimizer.zero_grad()\n",
    "        loss.backward()\n",
    "        optimizer.step()\n",
    "        # 计算数据集上总loss\n",
    "        train_loss += loss.item()\n",
    "        # 计算总准确率acc\n",
    "        _, pred = out.max(1)\n",
    "        num_correct = (pred==label).sum().item()\n",
    "        acc = num_correct / img.shape[0]\n",
    "        train_acc += acc\n",
    "        \n",
    "    loss_list.append(train_loss / len(train_loader))\n",
    "    acc_list.append(train_acc / len(train_loader))\n",
    "    \n",
    "    \n",
    "    # 在测试集上检验\n",
    "    eval_loss = 0\n",
    "    eval_acc = 0\n",
    "    model.eval() # 模型改为预测模式\n",
    "    for img, label in test_loader:\n",
    "        img = img.to(device)\n",
    "        label = label.to(device)\n",
    "        img = img.view(img.size(0), -1)\n",
    "        # 前向传播\n",
    "        out = model(img)\n",
    "        loss = criterion(out, label)\n",
    "        # 计算误差\n",
    "        eval_loss += loss.item()\n",
    "        # 计算准确率\n",
    "        _, pred = out.max(1)\n",
    "        num_correct = (pred==label).sum().item()\n",
    "        acc = num_correct / img.shape[0]\n",
    "        eval_acc += acc\n",
    "    \n",
    "    eval_loss_list.append(eval_loss / len(test_loader))\n",
    "    eval_acc_list.append(eval_acc/ len(test_loader))\n",
    "    \n",
    "    time_elapsed = time.time() - since\n",
    "\n",
    "    print('epoch:{}, train_loss:{:.4f}, train_acc:{:.4f}, test_loss:{:.4f}, test_acc:{:.4f}, time:{:.0f}m {:.0f}s'\n",
    "         .format(epoch, train_loss/len(train_loader), train_acc/len(train_loader), \n",
    "                 eval_loss/len(test_loader), eval_acc/len(test_loader), \n",
    "                 time_elapsed // 60, time_elapsed % 60))"
   ]
  },
  {
   "cell_type": "code",
   "execution_count": 8,
   "id": "illegal-junior",
   "metadata": {},
   "outputs": [
    {
     "data": {
      "text/plain": [
       "<matplotlib.legend.Legend at 0x22408868288>"
      ]
     },
     "execution_count": 8,
     "metadata": {},
     "output_type": "execute_result"
    },
    {
     "data": {
      "image/png": "[encoded data removed]",
      "text/plain": [
       "<Figure size 432x288 with 1 Axes>"
      ]
     },
     "metadata": {
      "needs_background": "light"
     },
     "output_type": "display_data"
    }
   ],
   "source": [
    "plt.title('train_loss')\n",
    "plt.plot(np.arange(len(loss_list)), loss_list)\n",
    "plt.legend(['Train Loss'], loc='upper right')"
   ]
  },
  {
   "cell_type": "code",
   "execution_count": null,
   "id": "bright-wheat",
   "metadata": {},
   "outputs": [],
   "source": []
  }
 ],
 "metadata": {
  "kernelspec": {
   "display_name": "Python [conda env:torch_new]",
   "language": "python",
   "name": "conda-env-torch_new-py"
  },
  "language_info": {
   "codemirror_mode": {
    "name": "ipython",
    "version": 3
   },
   "file_extension": ".py",
   "mimetype": "text/x-python",
   "name": "python",
   "nbconvert_exporter": "python",
   "pygments_lexer": "ipython3",
   "version": "3.7.10"
  }
 },
 "nbformat": 4,
 "nbformat_minor": 5
}
