{
 "cells": [
  {
   "cell_type": "code",
   "execution_count": 3,
   "id": "nearby-measure",
   "metadata": {},
   "outputs": [],
   "source": [
    "import torch"
   ]
  },
  {
   "cell_type": "code",
   "execution_count": 4,
   "id": "hired-interference",
   "metadata": {},
   "outputs": [
    {
     "name": "stdout",
     "output_type": "stream",
     "text": [
      "support CUDA?: True\n"
     ]
    },
    {
     "data": {
      "text/plain": [
       "'GeForce GTX 1660 SUPER'"
      ]
     },
     "execution_count": 4,
     "metadata": {},
     "output_type": "execute_result"
    }
   ],
   "source": [
    "print(\"support CUDA?:\", torch.cuda.is_available())\n",
    "\n",
    "torch.cuda.device_count()\n",
    "\n",
    "torch.cuda.get_device_name(0)"
   ]
  },
  {
   "cell_type": "code",
   "execution_count": 5,
   "id": "strange-spine",
   "metadata": {},
   "outputs": [
    {
     "name": "stdout",
     "output_type": "stream",
     "text": [
      "tensor([10.], device='cuda:0')\n"
     ]
    }
   ],
   "source": [
    "x = torch.tensor([10.0])\n",
    "x = x.cuda()\n",
    "print(x)"
   ]
  },
  {
   "cell_type": "code",
   "execution_count": 6,
   "id": "closing-monster",
   "metadata": {},
   "outputs": [
    {
     "name": "stdout",
     "output_type": "stream",
     "text": [
      "tensor([[ 0.6971,  2.5810,  0.3417],\n",
      "        [ 1.2547,  1.1368, -0.4311]], device='cuda:0')\n"
     ]
    }
   ],
   "source": [
    "y = torch.randn(2, 3)\n",
    "y = y.cuda()\n",
    "print(y)"
   ]
  },
  {
   "cell_type": "code",
   "execution_count": 7,
   "id": "champion-window",
   "metadata": {},
   "outputs": [
    {
     "name": "stdout",
     "output_type": "stream",
     "text": [
      "tensor([[10.6971, 12.5810, 10.3417],\n",
      "        [11.2547, 11.1368,  9.5689]], device='cuda:0')\n"
     ]
    }
   ],
   "source": [
    "z = x + y\n",
    "print(z)"
   ]
  },
  {
   "cell_type": "code",
   "execution_count": 8,
   "id": "resident-jamaica",
   "metadata": {},
   "outputs": [
    {
     "name": "stdout",
     "output_type": "stream",
     "text": [
      "support cudnn?: True\n"
     ]
    }
   ],
   "source": [
    "from torch.backends import cudnn\n",
    "print(\"support cudnn?:\", cudnn.is_acceptable(x))"
   ]
  },
  {
   "cell_type": "code",
   "execution_count": 9,
   "id": "adopted-profile",
   "metadata": {},
   "outputs": [],
   "source": [
    "torch.randn?"
   ]
  },
  {
   "cell_type": "code",
   "execution_count": null,
   "id": "driving-series",
   "metadata": {},
   "outputs": [],
   "source": []
  }
 ],
 "metadata": {
  "kernelspec": {
   "display_name": "zm_torch",
   "language": "python",
   "name": "zm_torch"
  },
  "language_info": {
   "codemirror_mode": {
    "name": "ipython",
    "version": 3
   },
   "file_extension": ".py",
   "mimetype": "text/x-python",
   "name": "python",
   "nbconvert_exporter": "python",
   "pygments_lexer": "ipython3",
   "version": "3.7.10"
  }
 },
 "nbformat": 4,
 "nbformat_minor": 5
}
