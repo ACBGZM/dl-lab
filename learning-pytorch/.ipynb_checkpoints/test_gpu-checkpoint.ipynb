{
 "cells": [
  {
   "cell_type": "code",
   "execution_count": 1,
   "id": "nearby-measure",
   "metadata": {},
   "outputs": [],
   "source": [
    "import torch"
   ]
  },
  {
   "cell_type": "code",
   "execution_count": 2,
   "id": "hired-interference",
   "metadata": {},
   "outputs": [
    {
     "name": "stdout",
     "output_type": "stream",
     "text": [
      "support CUDA?: True\n"
     ]
    }
   ],
   "source": [
    "print(\"support CUDA?:\", torch.cuda.is_available())"
   ]
  },
  {
   "cell_type": "code",
   "execution_count": 3,
   "id": "strange-spine",
   "metadata": {},
   "outputs": [
    {
     "name": "stdout",
     "output_type": "stream",
     "text": [
      "tensor([10.], device='cuda:0')\n"
     ]
    }
   ],
   "source": [
    "x = torch.tensor([10.0])\n",
    "x = x.cuda()\n",
    "print(x)"
   ]
  },
  {
   "cell_type": "code",
   "execution_count": 4,
   "id": "closing-monster",
   "metadata": {},
   "outputs": [
    {
     "name": "stdout",
     "output_type": "stream",
     "text": [
      "tensor([[-0.8987, -1.3874,  0.5406],\n",
      "        [-0.9407,  0.3206, -0.5501]], device='cuda:0')\n"
     ]
    }
   ],
   "source": [
    "y = torch.randn(2, 3)\n",
    "y = y.cuda()\n",
    "print(y)"
   ]
  },
  {
   "cell_type": "code",
   "execution_count": 5,
   "id": "champion-window",
   "metadata": {},
   "outputs": [
    {
     "name": "stdout",
     "output_type": "stream",
     "text": [
      "tensor([[ 9.1013,  8.6126, 10.5406],\n",
      "        [ 9.0593, 10.3206,  9.4499]], device='cuda:0')\n"
     ]
    }
   ],
   "source": [
    "z = x + y\n",
    "print(z)"
   ]
  },
  {
   "cell_type": "code",
   "execution_count": 6,
   "id": "resident-jamaica",
   "metadata": {},
   "outputs": [
    {
     "name": "stdout",
     "output_type": "stream",
     "text": [
      "support cudnn?: True\n"
     ]
    }
   ],
   "source": [
    "from torch.backends import cudnn\n",
    "print(\"support cudnn?:\", cudnn.is_acceptable(x))"
   ]
  },
  {
   "cell_type": "code",
   "execution_count": 7,
   "id": "adopted-profile",
   "metadata": {},
   "outputs": [],
   "source": [
    "torch.randn?"
   ]
  },
  {
   "cell_type": "code",
   "execution_count": null,
   "id": "driving-series",
   "metadata": {},
   "outputs": [],
   "source": []
  }
 ],
 "metadata": {
  "kernelspec": {
   "display_name": "Python [conda env:torch_new]",
   "language": "python",
   "name": "conda-env-torch_new-py"
  },
  "language_info": {
   "codemirror_mode": {
    "name": "ipython",
    "version": 3
   },
   "file_extension": ".py",
   "mimetype": "text/x-python",
   "name": "python",
   "nbconvert_exporter": "python",
   "pygments_lexer": "ipython3",
   "version": "3.7.10"
  }
 },
 "nbformat": 4,
 "nbformat_minor": 5
}
